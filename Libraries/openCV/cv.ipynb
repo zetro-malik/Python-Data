{
 "cells": [
  {
   "cell_type": "code",
   "execution_count": 1,
   "metadata": {},
   "outputs": [],
   "source": [
    "import cv2 as cv"
   ]
  },
  {
   "cell_type": "markdown",
   "metadata": {},
   "source": [
    "# Reading images in cv"
   ]
  },
  {
   "cell_type": "code",
   "execution_count": 47,
   "metadata": {},
   "outputs": [
    {
     "data": {
      "text/plain": [
       "-1"
      ]
     },
     "execution_count": 47,
     "metadata": {},
     "output_type": "execute_result"
    }
   ],
   "source": [
    "img = cv.imread(\"Resources/Photos/cat.jpg\")\n",
    "cv.imshow(\"cat frame \", img)\n",
    "cv.waitKey(0)"
   ]
  },
  {
   "cell_type": "markdown",
   "metadata": {},
   "source": [
    "# Reading video in cv\n",
    "### camera"
   ]
  },
  {
   "cell_type": "code",
   "execution_count": 3,
   "metadata": {},
   "outputs": [
    {
     "data": {
      "text/plain": [
       "-1"
      ]
     },
     "execution_count": 3,
     "metadata": {},
     "output_type": "execute_result"
    }
   ],
   "source": [
    "catpure= cv.VideoCapture(0)\n",
    "while True:\n",
    "    isTrue, frame = catpure.read()\n",
    "    if isTrue:\n",
    "        cv.imshow('video',frame)\n",
    "\n",
    "    if cv.waitKey(20) & 0xFF == ord('d'):\n",
    "        break\n",
    "\n",
    "\n",
    "catpure.release()\n",
    "cv.destroyAllWindows()\n",
    "cv.waitKey(0)"
   ]
  },
  {
   "cell_type": "markdown",
   "metadata": {},
   "source": [
    "### From video"
   ]
  },
  {
   "cell_type": "code",
   "execution_count": 4,
   "metadata": {},
   "outputs": [
    {
     "data": {
      "text/plain": [
       "-1"
      ]
     },
     "execution_count": 4,
     "metadata": {},
     "output_type": "execute_result"
    }
   ],
   "source": [
    "catpure= cv.VideoCapture(\"Resources/Videos/dog.mp4\")\n",
    "i=0\n",
    "while True:\n",
    "    isTrue, frame = catpure.read()\n",
    "    if isTrue:\n",
    "        cv.imshow(str(i),frame)\n",
    "    else:\n",
    "        break\n",
    "\n",
    "    if cv.waitKey(20) & 0xFF == ord('d'):\n",
    "        break\n",
    "    \n",
    "    i +=1\n",
    "\n",
    "catpure.release()\n",
    "cv.destroyAllWindows()\n",
    "cv.waitKey(0)"
   ]
  },
  {
   "cell_type": "markdown",
   "metadata": {},
   "source": [
    "# Resize OR Rescale"
   ]
  },
  {
   "cell_type": "code",
   "execution_count": 5,
   "metadata": {},
   "outputs": [
    {
     "data": {
      "text/plain": [
       "-1"
      ]
     },
     "execution_count": 5,
     "metadata": {},
     "output_type": "execute_result"
    }
   ],
   "source": [
    "import cv2 as cv\n",
    "def changeRes(widht, height):\n",
    "    # live video\n",
    "    catpure.set(3,widht)\n",
    "    catpure.set(4,height)\n",
    "\n",
    "\n",
    "def rescaleFrame(frame, scale=0.75):\n",
    "    #images, videos, live video\n",
    "    height = int(frame.shape[0] * scale)   #frame.shape[0] is height VICE..\n",
    "    width = int(frame.shape[1] * scale)\n",
    "\n",
    "    dimesnions = (width,height)\n",
    "\n",
    "    return cv.resize(frame,dimesnions, interpolation=cv.INTER_AREA)\n",
    "\n",
    "\n",
    "### resizing image\n",
    "\n",
    "# img = cv.imread(\"Resources/Photos/cat.jpg\")\n",
    "# cv.imshow(\"cat frame 1 \", img)\n",
    "# cv.imshow(\"cat frame \", rescaleFrame(img))\n",
    "\n",
    "catpure= cv.VideoCapture(\"Resources/Videos/dog.mp4\")\n",
    "while True:\n",
    "    isTrue, frame = catpure.read()\n",
    "    frame_resize = rescaleFrame(frame)\n",
    "    if isTrue:\n",
    "        cv.imshow(\"without\",frame)\n",
    "        cv.imshow(\"with\",frame_resize)\n",
    "    else:\n",
    "        break\n",
    "\n",
    "    if cv.waitKey(20) & 0xFF == ord('d'):\n",
    "        break\n",
    "    \n",
    "\n",
    "catpure.release()\n",
    "cv.destroyAllWindows()\n",
    "\n",
    "cv.waitKey(0)"
   ]
  },
  {
   "cell_type": "markdown",
   "metadata": {},
   "source": [
    "# Draw"
   ]
  },
  {
   "cell_type": "markdown",
   "metadata": {},
   "source": [
    "## paint"
   ]
  },
  {
   "cell_type": "code",
   "execution_count": 19,
   "metadata": {},
   "outputs": [
    {
     "data": {
      "text/plain": [
       "-1"
      ]
     },
     "execution_count": 19,
     "metadata": {},
     "output_type": "execute_result"
    }
   ],
   "source": [
    "import cv2 as cv\n",
    "import numpy as np\n",
    "\n",
    "img = cv.imread(\"Resources/Photos/cat.jpg\")\n",
    "\n",
    "# make blank image size of 'img'\n",
    "blank = np.zeros((img.shape[0],img.shape[1],3), dtype='uint8')\n",
    "\n",
    "\n",
    "#paint image a certain color\n",
    "# giving all index (0,255,0) this color\n",
    "blank[:]=0,0,225\n",
    "\n",
    "# giving all index (0,255,0) this color\n",
    "blank[200:300,100:200]=0,225,0\n",
    "\n",
    "# giving color in a fixed area\n",
    "blank[0:200,50:100]=0,225,0\n",
    "\n",
    "\n",
    "blank[0:blank.shape[0]//2,300:500]=0,225,0\n",
    "\n",
    "cv.imshow('blank',blank)\n",
    "cv.waitKey(0)\n",
    "\n",
    "\n",
    "\n"
   ]
  },
  {
   "cell_type": "markdown",
   "metadata": {},
   "source": [
    "## shapes"
   ]
  },
  {
   "cell_type": "markdown",
   "metadata": {},
   "source": [
    "### Rectangel"
   ]
  },
  {
   "cell_type": "code",
   "execution_count": 28,
   "metadata": {},
   "outputs": [
    {
     "data": {
      "text/plain": [
       "-1"
      ]
     },
     "execution_count": 28,
     "metadata": {},
     "output_type": "execute_result"
    }
   ],
   "source": [
    "import cv2 as cv\n",
    "import numpy as np\n",
    "\n",
    "\n",
    "# make blank image size of 'img'\n",
    "blank = np.zeros((500,500,3), dtype='uint8')\n",
    "cv.rectangle(blank,(10,10),(350,250),(0,255,0),thickness=1)\n",
    "cv.imshow('rectangle',blank)\n",
    "\n",
    "cv.waitKey(0)\n"
   ]
  },
  {
   "cell_type": "markdown",
   "metadata": {},
   "source": [
    "### circle"
   ]
  },
  {
   "cell_type": "code",
   "execution_count": 33,
   "metadata": {},
   "outputs": [
    {
     "data": {
      "text/plain": [
       "-1"
      ]
     },
     "execution_count": 33,
     "metadata": {},
     "output_type": "execute_result"
    }
   ],
   "source": [
    "import cv2 as cv\n",
    "import numpy as np\n",
    "\n",
    "\n",
    "# make blank image size of 'img'\n",
    "blank = np.zeros((500,500,3), dtype='uint8')\n",
    "cv.circle(blank,(250,100),40,(0,0,255),thickness=-1)\n",
    "cv.imshow('circle',blank)\n",
    "\n",
    "cv.waitKey(0)\n"
   ]
  },
  {
   "cell_type": "markdown",
   "metadata": {},
   "source": [
    "### line"
   ]
  },
  {
   "cell_type": "code",
   "execution_count": 36,
   "metadata": {},
   "outputs": [
    {
     "data": {
      "text/plain": [
       "-1"
      ]
     },
     "execution_count": 36,
     "metadata": {},
     "output_type": "execute_result"
    }
   ],
   "source": [
    "import cv2 as cv\n",
    "import numpy as np\n",
    "\n",
    "\n",
    "# make blank image size of 'img'\n",
    "blank = np.zeros((500,500,3), dtype='uint8')\n",
    "cv.line(blank,(0,0),(250,250),(0,0,255),thickness=1)\n",
    "cv.imshow('circle',blank)\n",
    "\n",
    "cv.waitKey(0)\n"
   ]
  },
  {
   "cell_type": "markdown",
   "metadata": {},
   "source": [
    "### text in image"
   ]
  },
  {
   "cell_type": "code",
   "execution_count": 46,
   "metadata": {},
   "outputs": [
    {
     "data": {
      "text/plain": [
       "-1"
      ]
     },
     "execution_count": 46,
     "metadata": {},
     "output_type": "execute_result"
    }
   ],
   "source": [
    "import cv2 as cv\n",
    "import numpy as np\n",
    "\n",
    "\n",
    "# make blank image size of 'img'\n",
    "blank = np.zeros((500,500,3), dtype='uint8')\n",
    "cv.putText(blank,'hello',(215,50),cv.FONT_HERSHEY_TRIPLEX,1.0,(0,255,255),2)\n",
    "cv.imshow('circle',blank)\n",
    "\n",
    "cv.waitKey(0)\n"
   ]
  },
  {
   "cell_type": "markdown",
   "metadata": {},
   "source": [
    "# Essentials of CV"
   ]
  },
  {
   "cell_type": "code",
   "execution_count": null,
   "metadata": {},
   "outputs": [],
   "source": []
  }
 ],
 "metadata": {
  "kernelspec": {
   "display_name": "Python 3.9.13 64-bit",
   "language": "python",
   "name": "python3"
  },
  "language_info": {
   "codemirror_mode": {
    "name": "ipython",
    "version": 3
   },
   "file_extension": ".py",
   "mimetype": "text/x-python",
   "name": "python",
   "nbconvert_exporter": "python",
   "pygments_lexer": "ipython3",
   "version": "3.9.13"
  },
  "orig_nbformat": 4,
  "vscode": {
   "interpreter": {
    "hash": "6fff98fc3b3d81bd655c2cc48858186e4d9e2db7b515bf1c3221888f12a62f87"
   }
  }
 },
 "nbformat": 4,
 "nbformat_minor": 2
}
